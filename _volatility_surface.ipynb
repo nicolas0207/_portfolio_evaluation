{
 "cells": [
  {
   "cell_type": "markdown",
   "metadata": {},
   "source": [
    "### 4. How to Read the Volatility Surface\n",
    "X-axis (Strike Prices): The range of prices at which the option can be exercised.\n",
    "Y-axis (Time to Expiration): How far we are from the option's expiration date.\n",
    "Z-axis (Implied Volatility): Higher means the market expects larger future moves.\n",
    "Common Observations\n",
    "\n",
    "###### Volatility Smile:\n",
    "\n",
    "Higher IV for out-of-the-money (OTM) and in-the-money (ITM) strikes.\n",
    "\n",
    "Lower IV for at-the-money (ATM) options.\n",
    "\n",
    "Interpretation: <i>Investors demand higher premiums for deep ITM/OTM options. </i>\n",
    "\n",
    "###### Volatility Skew:\n",
    "\n",
    "Higher IV for lower strike prices → Put Skew (fear of crashes).\n",
    "Higher IV for higher strike prices → Call Skew (fear of price spikes).\n",
    "\n",
    "Interpretation: <i>Traders expect downside risk (put skew) or upside bursts (call skew).</i>\n",
    "\n",
    "###### Time Decay Effects:\n",
    "\n",
    "Far expiries tend to have higher IV due to uncertainty.\n",
    "Near expiries have lower IV as price movement is more predictable."
   ]
  },
  {
   "cell_type": "code",
   "execution_count": null,
   "metadata": {},
   "outputs": [],
   "source": [
    "from mpl_toolkits.mplot3d import Axes3D\n",
    "\n",
    "def plot_volatility_surface(strike_prices, expiries, volatilities):\n",
    "    \"\"\"\n",
    "    Plot a 3D volatility surface.\n",
    "\n",
    "    Parameters:\n",
    "    - strike_prices: Array of strike prices.\n",
    "    - expiries: Array of time to expiration.\n",
    "    - volatilities: 2D array of implied volatilities (same shape as strike_prices × expiries).\n",
    "    \"\"\"\n",
    "    fig = plt.figure(figsize=(10, 7))\n",
    "    ax = fig.add_subplot(111, projection='3d')\n",
    "\n",
    "    X, Y = np.meshgrid(strike_prices, expiries)\n",
    "    Z = volatilities  # Implied volatilities\n",
    "\n",
    "    surf = ax.plot_surface(X, Y, Z, cmap=\"viridis\", edgecolor='k')\n",
    "    fig.colorbar(surf, ax=ax, shrink=0.5, aspect=5)\n",
    "\n",
    "    ax.set_xlabel(\"Strike Price\")\n",
    "    ax.set_ylabel(\"Time to Expiration\")\n",
    "    ax.set_zlabel(\"Implied Volatility\")\n",
    "    ax.set_title(\"Volatility Surface\")\n",
    "    plt.show()\n"
   ]
  }
 ],
 "metadata": {
  "language_info": {
   "name": "python"
  }
 },
 "nbformat": 4,
 "nbformat_minor": 2
}
